{
  "nbformat": 4,
  "nbformat_minor": 0,
  "metadata": {
    "colab": {
      "provenance": []
    },
    "kernelspec": {
      "name": "python3",
      "display_name": "Python 3"
    },
    "language_info": {
      "name": "python"
    }
  },
  "cells": [
    {
      "cell_type": "code",
      "source": [
        "def display_board(game_board):\n",
        "    for row in game_board:\n",
        "        print(\" | \".join(row))\n",
        "        print(\"-\" * 9)"
      ],
      "metadata": {
        "id": "2-4tvLvvVAQo"
      },
      "execution_count": null,
      "outputs": []
    },
    {
      "cell_type": "code",
      "source": [
        "def is_valid_move(game_board, row, col):\n",
        "    return 0 <= row < 3 and 0 <= col < 3 and game_board[row][col] == ' '"
      ],
      "metadata": {
        "id": "BbZquli9VCxK"
      },
      "execution_count": null,
      "outputs": []
    },
    {
      "cell_type": "code",
      "source": [
        "def get_player_move():\n",
        "    while True:\n",
        "        try:\n",
        "            row = int(input(\"Enter the row (0, 1, or 2): \"))\n",
        "            col = int(input(\"Enter the column (0, 1, or 2): \"))\n",
        "            return row, col\n",
        "        except ValueError:\n",
        "            print(\"Invalid input. Please enter a number.\")"
      ],
      "metadata": {
        "id": "r-Blrmx_VIbZ"
      },
      "execution_count": null,
      "outputs": []
    },
    {
      "cell_type": "code",
      "source": [
        "def check_winner(game_board):\n",
        "    for player in ['X', 'O']:\n",
        "        for i in range(3):\n",
        "            if all(game_board[i][j] == player for j in range(3)) or all(game_board[j][i] == player for j in range(3)):\n",
        "                return 1 if player == 'X' else -1\n",
        "        if all(game_board[i][i] == player for i in range(3)) or all(game_board[i][2 - i] == player for i in range(3)):\n",
        "            return 1 if player == 'X' else -1\n",
        "\n",
        "    if all(game_board[i][j] != ' ' for i in range(3) for j in range(3)):\n",
        "        return 0\n",
        "    return None"
      ],
      "metadata": {
        "id": "liM3a2udVMEX"
      },
      "execution_count": null,
      "outputs": []
    },
    {
      "cell_type": "code",
      "source": [
        "def minimax_algorithm(game_board, depth, is_maximizing, alpha, beta):\n",
        "    score = check_winner(game_board)\n",
        "    if score is not None:\n",
        "        return score\n",
        "    if is_maximizing:\n",
        "        max_score = float('-inf')\n",
        "        for i in range(3):\n",
        "            for j in range(3):\n",
        "                if game_board[i][j] == ' ':\n",
        "                    game_board[i][j] = 'O'\n",
        "                    eval_score = minimax_algorithm(game_board, depth + 1, False, alpha, beta)\n",
        "                    game_board[i][j] = ' '\n",
        "                    max_score = max(max_score, eval_score)\n",
        "                    alpha = max(alpha, eval_score)\n",
        "                    if beta <= alpha:\n",
        "                        break\n",
        "        return max_score\n",
        "    else:\n",
        "        min_score = float('inf')\n",
        "        for i in range(3):\n",
        "            for j in range(3):\n",
        "                if game_board[i][j] == ' ':\n",
        "                    game_board[i][j] = 'X'\n",
        "                    eval_score = minimax_algorithm(game_board, depth + 1, True, alpha, beta)\n",
        "                    game_board[i][j] = ' '\n",
        "                    min_score = min(min_score, eval_score)\n",
        "                    beta = min(beta, eval_score)\n",
        "                    if beta <= alpha:\n",
        "                        break\n",
        "        return min_score"
      ],
      "metadata": {
        "id": "P3XtFmLsVW3Q"
      },
      "execution_count": null,
      "outputs": []
    },
    {
      "cell_type": "code",
      "source": [
        "def find_best_move(game_board):\n",
        "    best_value = float('-inf')\n",
        "    best_move = (-1, -1)\n",
        "    for i in range(3):\n",
        "        for j in range(3):\n",
        "            if game_board[i][j] == ' ':\n",
        "                game_board[i][j] = 'X'\n",
        "                move_value = minimax_algorithm(game_board, 0, False, float('-inf'), float('inf'))\n",
        "                game_board[i][j] = ' '\n",
        "                if move_value > best_value:\n",
        "                    best_move = (i, j)\n",
        "                    best_value = move_value\n",
        "    return best_move"
      ],
      "metadata": {
        "id": "TWBCXZJ6VaOP"
      },
      "execution_count": null,
      "outputs": []
    },
    {
      "cell_type": "code",
      "source": [
        "def play_game():\n",
        "    game_board = [[' ', ' ', ' '],\n",
        "                  [' ', ' ', ' '],\n",
        "                  [' ', ' ', ' ']]\n",
        "    print(\"Welcome to Tic-Tac-Toe!\")\n",
        "    display_board(game_board)\n",
        "    while check_winner(game_board) is None:\n",
        "        print(\"\\nPlayer X's move:\")\n",
        "        row, col = get_player_move()\n",
        "        while not is_valid_move(game_board, row, col):\n",
        "            print(\"Invalid move. Try again.\")\n",
        "            row, col = get_player_move()\n",
        "        game_board[row][col] = 'X'\n",
        "        display_board(game_board)\n",
        "\n",
        "        if check_winner(game_board) is not None:\n",
        "            break\n",
        "        print(\"\\nPlayer O's move:\")\n",
        "        row, col = find_best_move(game_board)\n",
        "        game_board[row][col] = 'O'\n",
        "        display_board(game_board)\n",
        "\n",
        "    winner = check_winner(game_board)\n",
        "    if winner == 1:\n",
        "        print(\"Player X wins!\")\n",
        "    elif winner == -1:\n",
        "        print(\"Player O wins!\")\n",
        "    else:\n",
        "        print(\"It's a draw!\")\n"
      ],
      "metadata": {
        "id": "9HsRlki5VdVY"
      },
      "execution_count": null,
      "outputs": []
    },
    {
      "cell_type": "code",
      "source": [
        "play_game()"
      ],
      "metadata": {
        "colab": {
          "base_uri": "https://localhost:8080/"
        },
        "id": "mdTVbN7nEeI2",
        "outputId": "728af822-b7ee-4faa-bddb-94f428881a8c"
      },
      "execution_count": null,
      "outputs": [
        {
          "output_type": "stream",
          "name": "stdout",
          "text": [
            "Welcome to Tic-Tac-Toe!\n",
            "  |   |  \n",
            "---------\n",
            "  |   |  \n",
            "---------\n",
            "  |   |  \n",
            "---------\n",
            "\n",
            "Player X's move:\n",
            "Enter the row (0, 1, or 2): 1\n",
            "Enter the column (0, 1, or 2): 0\n",
            "  |   |  \n",
            "---------\n",
            "X |   |  \n",
            "---------\n",
            "  |   |  \n",
            "---------\n",
            "\n",
            "Player O's move:\n",
            "O |   |  \n",
            "---------\n",
            "X |   |  \n",
            "---------\n",
            "  |   |  \n",
            "---------\n",
            "\n",
            "Player X's move:\n",
            "Enter the row (0, 1, or 2): 2\n",
            "Enter the column (0, 1, or 2): 3\n",
            "Invalid move. Try again.\n",
            "Enter the row (0, 1, or 2): 2\n",
            "Enter the column (0, 1, or 2): 1\n",
            "O |   |  \n",
            "---------\n",
            "X |   |  \n",
            "---------\n",
            "  | X |  \n",
            "---------\n",
            "\n",
            "Player O's move:\n",
            "O | O |  \n",
            "---------\n",
            "X |   |  \n",
            "---------\n",
            "  | X |  \n",
            "---------\n",
            "\n",
            "Player X's move:\n",
            "Enter the row (0, 1, or 2): 1\n",
            "Enter the column (0, 1, or 2): 2\n",
            "O | O |  \n",
            "---------\n",
            "X |   | X\n",
            "---------\n",
            "  | X |  \n",
            "---------\n",
            "\n",
            "Player O's move:\n",
            "O | O | O\n",
            "---------\n",
            "X |   | X\n",
            "---------\n",
            "  | X |  \n",
            "---------\n",
            "Player O wins!\n"
          ]
        }
      ]
    }
  ]
}